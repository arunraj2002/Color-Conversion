{
 "cells": [
  {
   "cell_type": "code",
   "execution_count": 2,
   "metadata": {},
   "outputs": [],
   "source": [
    "import cv2"
   ]
  },
  {
   "cell_type": "code",
   "execution_count": 3,
   "metadata": {},
   "outputs": [],
   "source": [
    "color=cv2.imread('tower.jpg')"
   ]
  },
  {
   "cell_type": "code",
   "execution_count": 4,
   "metadata": {},
   "outputs": [],
   "source": [
    "cv2.imshow('original img',color)\n"
   ]
  },
  {
   "cell_type": "code",
   "execution_count": 5,
   "metadata": {},
   "outputs": [
    {
     "data": {
      "text/plain": [
       "-1"
      ]
     },
     "execution_count": 5,
     "metadata": {},
     "output_type": "execute_result"
    }
   ],
   "source": [
    "cv2.waitKey(0)"
   ]
  },
  {
   "cell_type": "code",
   "execution_count": 6,
   "metadata": {},
   "outputs": [],
   "source": [
    "hsv=cv2.cvtColor(color,cv2.COLOR_BGR2HSV)\n",
    "cv2.imshow('BGR_HSV',hsv)\n",
    "hsv2=cv2.cvtColor(color,cv2.COLOR_RGB2HSV)\n",
    "cv2.imshow('RGB_HSV',hsv2)\n",
    "hsv3=cv2.cvtColor(color,cv2.COLOR_BGR2GRAY)\n",
    "cv2.imshow('BGR_GRAY',hsv3)\n",
    "hsv4=cv2.cvtColor(color,cv2.COLOR_RGB2GRAY)\n",
    "cv2.imshow('RGB_GRAY',hsv4)\n",
    "cv2.waitKey(0)\n",
    "cv2.destroyAllWindows()"
   ]
  },
  {
   "cell_type": "code",
   "execution_count": 7,
   "metadata": {},
   "outputs": [],
   "source": [
    "rgb=cv2.cvtColor(hsv2,cv2.COLOR_HSV2RGB)\n",
    "cv2.imshow('HSV_RGB',rgb)\n",
    "bgr=cv2.cvtColor(hsv2,cv2.COLOR_HSV2BGR)\n",
    "cv2.imshow('HSV_BGR',bgr) \n",
    "cv2.waitKey(0)\n",
    "cv2.destroyAllWindows()"
   ]
  },
  {
   "cell_type": "code",
   "execution_count": 10,
   "metadata": {},
   "outputs": [],
   "source": [
    "ycrcb=cv2.cvtColor(color,cv2.COLOR_RGB2YCrCb)\n",
    "cv2.imshow('RGB_YCrCB',ycrcb)\n",
    "ycrcb1=cv2.cvtColor(color,cv2.COLOR_BGR2YCrCb)\n",
    "cv2.imshow('BGR_YCrCB',ycrcb1)\n",
    "cv2.waitKey(0)\n",
    "cv2.destroyAllWindows()"
   ]
  },
  {
   "cell_type": "code",
   "execution_count": 19,
   "metadata": {},
   "outputs": [],
   "source": [
    "blue=color[:,:,0]\n",
    "green=color[:,:,1]\n",
    "red=color[:,:,2]\n",
    "cv2.merge((blue,green,red))\n",
    "cv2.imshow(\"blue\",blue)\n",
    "cv2.imshow(\"green\",green)\n",
    "cv2.imshow(\"red\",red)\n",
    "cv2.waitKey(0)\n",
    "cv2.destroyAllWindows()"
   ]
  },
  {
   "cell_type": "code",
   "execution_count": null,
   "metadata": {},
   "outputs": [],
   "source": [
    "hsv5=cv2.cvtColor(color,cv2.COLOR_BGR2HSV)\n",
    "cv2.imshow(\"ORIGINAL HSV\",hsv5)\n",
    "h , s, v = cv2.split(hsv5)\n",
    "cv2.imshow('h_plane',h)\n",
    "cv2.imshow('s_plane',s)\n",
    "cv2.imshow('v_plane',v)\n",
    "mergedhsv=cv2.merge((h,s,v))\n",
    "cv2.imshow('merged',mergedhsv)\n",
    "cv2.waitKey(0)"
   ]
  },
  {
   "cell_type": "code",
   "execution_count": null,
   "metadata": {},
   "outputs": [],
   "source": []
  }
 ],
 "metadata": {
  "kernelspec": {
   "display_name": "Python 3",
   "language": "python",
   "name": "python3"
  },
  "language_info": {
   "codemirror_mode": {
    "name": "ipython",
    "version": 3
   },
   "file_extension": ".py",
   "mimetype": "text/x-python",
   "name": "python",
   "nbconvert_exporter": "python",
   "pygments_lexer": "ipython3",
   "version": "3.8.5"
  }
 },
 "nbformat": 4,
 "nbformat_minor": 4
}
